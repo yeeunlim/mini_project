{
 "cells": [
  {
   "cell_type": "code",
   "execution_count": 37,
   "metadata": {},
   "outputs": [],
   "source": [
    "import pandas as pd"
   ]
  },
  {
   "cell_type": "code",
   "execution_count": 38,
   "metadata": {},
   "outputs": [],
   "source": [
    "\"\"\"\n",
    "장애인 복지시설 주변 CCTV 개수, 신호등 개수, 안전표지판 개수, 보행신호등 개수(??????????), 음향신호기 개수 + 2022년 기준 복지시설 반경 300m 교통사고량 + 자치구별 주차장확보율\n",
    "\"\"\"\n",
    "# cctv 개수\n",
    "cctv = pd.read_excel('./cctv_cnt.xlsx')\n",
    "\n",
    "# 신호등 개수\n",
    "traffic_light = pd.read_excel('traffic_cnt.xlsx')\n",
    "\n",
    "# 안전표지판 개수\n",
    "safety_sign = pd.read_excel('./safety_sign_cnt.xlsx')\n",
    "\n",
    "# 음향신호기 개수\n",
    "voice_sign = pd.read_excel('./voice_signal_cnt.xlsx')\n",
    "\n",
    "# 2022년 기준 복지시설 반경 300m 교통사고량\n",
    "total_accident = pd.read_excel('./사고건수.xlsx')\n",
    "\n",
    "#--------------------------------------------------------------------------------------\n",
    "\n",
    "# 보행신호등 개수\n",
    "# ???????????????????\n",
    "\n",
    "\n",
    "# 자치구별 주차장 확보율\n",
    "# parking_avail_rate = pd.read_excel('./주차장+확보율_20240205103636.xlsx')"
   ]
  },
  {
   "cell_type": "code",
   "execution_count": 50,
   "metadata": {},
   "outputs": [
    {
     "data": {
      "text/plain": [
       "31297"
      ]
     },
     "execution_count": 50,
     "metadata": {},
     "output_type": "execute_result"
    }
   ],
   "source": [
    "cctv_cnt = cctv['cctv 개수']\n",
    "cctv_total = sum(cctv['cctv 개수'])\n",
    "cctv_total"
   ]
  },
  {
   "cell_type": "code",
   "execution_count": 52,
   "metadata": {},
   "outputs": [
    {
     "data": {
      "text/plain": [
       "50865"
      ]
     },
     "execution_count": 52,
     "metadata": {},
     "output_type": "execute_result"
    }
   ],
   "source": [
    "traffic_cnt = traffic_light['신호등 개수']\n",
    "traffic_total = sum(traffic_light['신호등 개수'])\n",
    "traffic_total"
   ]
  },
  {
   "cell_type": "code",
   "execution_count": 53,
   "metadata": {},
   "outputs": [
    {
     "data": {
      "text/plain": [
       "168800"
      ]
     },
     "execution_count": 53,
     "metadata": {},
     "output_type": "execute_result"
    }
   ],
   "source": [
    "safety_cnt = safety_sign['안전표지 개수']\n",
    "safety_total = sum(safety_sign['안전표지 개수'])\n",
    "safety_total"
   ]
  },
  {
   "cell_type": "code",
   "execution_count": 54,
   "metadata": {},
   "outputs": [
    {
     "data": {
      "text/plain": [
       "11568"
      ]
     },
     "execution_count": 54,
     "metadata": {},
     "output_type": "execute_result"
    }
   ],
   "source": [
    "voice_cnt = voice_sign['안전표지 개수']\n",
    "voice_total = sum(voice_sign['안전표지 개수'])\n",
    "voice_total"
   ]
  },
  {
   "cell_type": "code",
   "execution_count": 55,
   "metadata": {},
   "outputs": [
    {
     "data": {
      "text/plain": [
       "14169"
      ]
     },
     "execution_count": 55,
     "metadata": {},
     "output_type": "execute_result"
    }
   ],
   "source": [
    "accident_cnt = total_accident['사고건수']\n",
    "accident_total = sum(total_accident['사고건수'])\n",
    "accident_total"
   ]
  },
  {
   "cell_type": "code",
   "execution_count": 56,
   "metadata": {},
   "outputs": [],
   "source": [
    "# 가중치 계산\n",
    "ahp = ((cctv_cnt/cctv_total) * 0.2) + ((traffic_cnt/traffic_total) * 0.18) + ((safety_cnt/safety_total) * 0.17) + ((voice_cnt/voice_total) * 0.15) + ((accident_cnt/accident_total) * 0.3)"
   ]
  },
  {
   "cell_type": "code",
   "execution_count": 58,
   "metadata": {},
   "outputs": [
    {
     "data": {
      "text/plain": [
       "1.0000000000000004"
      ]
     },
     "execution_count": 58,
     "metadata": {},
     "output_type": "execute_result"
    }
   ],
   "source": [
    "sum(ahp)"
   ]
  },
  {
   "cell_type": "code",
   "execution_count": 59,
   "metadata": {},
   "outputs": [],
   "source": [
    "total_accident['AHP 계산'] = ahp"
   ]
  },
  {
   "cell_type": "code",
   "execution_count": 60,
   "metadata": {},
   "outputs": [],
   "source": [
    "total_accident.to_excel('AHP_cal.xlsx')"
   ]
  },
  {
   "cell_type": "code",
   "execution_count": 61,
   "metadata": {},
   "outputs": [
    {
     "data": {
      "text/html": [
       "<div>\n",
       "<style scoped>\n",
       "    .dataframe tbody tr th:only-of-type {\n",
       "        vertical-align: middle;\n",
       "    }\n",
       "\n",
       "    .dataframe tbody tr th {\n",
       "        vertical-align: top;\n",
       "    }\n",
       "\n",
       "    .dataframe thead th {\n",
       "        text-align: right;\n",
       "    }\n",
       "</style>\n",
       "<table border=\"1\" class=\"dataframe\">\n",
       "  <thead>\n",
       "    <tr style=\"text-align: right;\">\n",
       "      <th></th>\n",
       "      <th>Unnamed: 0</th>\n",
       "      <th>시군구명</th>\n",
       "      <th>시설명</th>\n",
       "      <th>시설주소</th>\n",
       "      <th>시설종류명(시설유형)</th>\n",
       "      <th>정원(수용인원)</th>\n",
       "      <th>현인원</th>\n",
       "      <th>사고건수</th>\n",
       "      <th>Unnamed: 8</th>\n",
       "      <th>AHP 계산</th>\n",
       "    </tr>\n",
       "  </thead>\n",
       "  <tbody>\n",
       "    <tr>\n",
       "      <th>0</th>\n",
       "      <td>0</td>\n",
       "      <td>송파구</td>\n",
       "      <td>송파구방이복지관</td>\n",
       "      <td>서울특별시 송파구 백제고분로37길 4</td>\n",
       "      <td>(장애인) 장애인복지관</td>\n",
       "      <td>160.0</td>\n",
       "      <td>160.0</td>\n",
       "      <td>23</td>\n",
       "      <td>NaN</td>\n",
       "      <td>0.001127</td>\n",
       "    </tr>\n",
       "    <tr>\n",
       "      <th>1</th>\n",
       "      <td>1</td>\n",
       "      <td>송파구</td>\n",
       "      <td>서울시각장애인복지관</td>\n",
       "      <td>서울특별시 송파구 삼학사로19길 27</td>\n",
       "      <td>(장애인) 장애인복지관</td>\n",
       "      <td>0.0</td>\n",
       "      <td>0.0</td>\n",
       "      <td>34</td>\n",
       "      <td>NaN</td>\n",
       "      <td>0.001420</td>\n",
       "    </tr>\n",
       "    <tr>\n",
       "      <th>2</th>\n",
       "      <td>2</td>\n",
       "      <td>동작구</td>\n",
       "      <td>서울시립발달장애인복지관</td>\n",
       "      <td>서울특별시 동작구 여의대방로20길 33</td>\n",
       "      <td>(장애인) 장애인복지관</td>\n",
       "      <td>752.0</td>\n",
       "      <td>752.0</td>\n",
       "      <td>13</td>\n",
       "      <td>NaN</td>\n",
       "      <td>0.000291</td>\n",
       "    </tr>\n",
       "    <tr>\n",
       "      <th>3</th>\n",
       "      <td>3</td>\n",
       "      <td>강남구</td>\n",
       "      <td>청음복지관</td>\n",
       "      <td>서울특별시 강남구 봉은사로50길 6</td>\n",
       "      <td>(장애인) 장애인복지관</td>\n",
       "      <td>NaN</td>\n",
       "      <td>345.0</td>\n",
       "      <td>47</td>\n",
       "      <td>NaN</td>\n",
       "      <td>0.002764</td>\n",
       "    </tr>\n",
       "    <tr>\n",
       "      <th>4</th>\n",
       "      <td>4</td>\n",
       "      <td>마포구</td>\n",
       "      <td>마포장애인종합복지관</td>\n",
       "      <td>서울특별시 마포구 성산로4길 35</td>\n",
       "      <td>(장애인) 장애인복지관</td>\n",
       "      <td>NaN</td>\n",
       "      <td>3743.0</td>\n",
       "      <td>24</td>\n",
       "      <td>NaN</td>\n",
       "      <td>0.001394</td>\n",
       "    </tr>\n",
       "    <tr>\n",
       "      <th>...</th>\n",
       "      <td>...</td>\n",
       "      <td>...</td>\n",
       "      <td>...</td>\n",
       "      <td>...</td>\n",
       "      <td>...</td>\n",
       "      <td>...</td>\n",
       "      <td>...</td>\n",
       "      <td>...</td>\n",
       "      <td>...</td>\n",
       "      <td>...</td>\n",
       "    </tr>\n",
       "    <tr>\n",
       "      <th>675</th>\n",
       "      <td>675</td>\n",
       "      <td>NaN</td>\n",
       "      <td>서울정문학교</td>\n",
       "      <td>NaN</td>\n",
       "      <td>NaN</td>\n",
       "      <td>NaN</td>\n",
       "      <td>NaN</td>\n",
       "      <td>23</td>\n",
       "      <td>NaN</td>\n",
       "      <td>0.001553</td>\n",
       "    </tr>\n",
       "    <tr>\n",
       "      <th>676</th>\n",
       "      <td>676</td>\n",
       "      <td>NaN</td>\n",
       "      <td>서울정진학교</td>\n",
       "      <td>NaN</td>\n",
       "      <td>NaN</td>\n",
       "      <td>NaN</td>\n",
       "      <td>NaN</td>\n",
       "      <td>1</td>\n",
       "      <td>NaN</td>\n",
       "      <td>0.000258</td>\n",
       "    </tr>\n",
       "    <tr>\n",
       "      <th>677</th>\n",
       "      <td>677</td>\n",
       "      <td>NaN</td>\n",
       "      <td>한국우진학교</td>\n",
       "      <td>NaN</td>\n",
       "      <td>NaN</td>\n",
       "      <td>NaN</td>\n",
       "      <td>NaN</td>\n",
       "      <td>9</td>\n",
       "      <td>NaN</td>\n",
       "      <td>0.001333</td>\n",
       "    </tr>\n",
       "    <tr>\n",
       "      <th>678</th>\n",
       "      <td>678</td>\n",
       "      <td>NaN</td>\n",
       "      <td>서울농학교</td>\n",
       "      <td>NaN</td>\n",
       "      <td>NaN</td>\n",
       "      <td>NaN</td>\n",
       "      <td>NaN</td>\n",
       "      <td>6</td>\n",
       "      <td>NaN</td>\n",
       "      <td>0.001218</td>\n",
       "    </tr>\n",
       "    <tr>\n",
       "      <th>679</th>\n",
       "      <td>679</td>\n",
       "      <td>NaN</td>\n",
       "      <td>서울맹학교</td>\n",
       "      <td>NaN</td>\n",
       "      <td>NaN</td>\n",
       "      <td>NaN</td>\n",
       "      <td>NaN</td>\n",
       "      <td>5</td>\n",
       "      <td>NaN</td>\n",
       "      <td>0.001170</td>\n",
       "    </tr>\n",
       "  </tbody>\n",
       "</table>\n",
       "<p>680 rows × 10 columns</p>\n",
       "</div>"
      ],
      "text/plain": [
       "     Unnamed: 0 시군구명           시설명                   시설주소   시설종류명(시설유형)  \\\n",
       "0             0  송파구      송파구방이복지관  서울특별시 송파구 백제고분로37길 4   (장애인) 장애인복지관   \n",
       "1             1  송파구    서울시각장애인복지관  서울특별시 송파구 삼학사로19길 27　  (장애인) 장애인복지관   \n",
       "2             2  동작구  서울시립발달장애인복지관  서울특별시 동작구 여의대방로20길 33  (장애인) 장애인복지관   \n",
       "3             3  강남구         청음복지관   서울특별시 강남구 봉은사로50길 6　  (장애인) 장애인복지관   \n",
       "4             4  마포구    마포장애인종합복지관     서울특별시 마포구 성산로4길 35  (장애인) 장애인복지관   \n",
       "..          ...  ...           ...                    ...           ...   \n",
       "675         675  NaN        서울정문학교                    NaN           NaN   \n",
       "676         676  NaN        서울정진학교                    NaN           NaN   \n",
       "677         677  NaN        한국우진학교                    NaN           NaN   \n",
       "678         678  NaN         서울농학교                    NaN           NaN   \n",
       "679         679  NaN         서울맹학교                    NaN           NaN   \n",
       "\n",
       "     정원(수용인원)     현인원  사고건수 Unnamed: 8    AHP 계산  \n",
       "0       160.0   160.0    23        NaN  0.001127  \n",
       "1         0.0     0.0    34        NaN  0.001420  \n",
       "2       752.0   752.0    13        NaN  0.000291  \n",
       "3         NaN   345.0    47        NaN  0.002764  \n",
       "4         NaN  3743.0    24        NaN  0.001394  \n",
       "..        ...     ...   ...        ...       ...  \n",
       "675       NaN     NaN    23        NaN  0.001553  \n",
       "676       NaN     NaN     1        NaN  0.000258  \n",
       "677       NaN     NaN     9        NaN  0.001333  \n",
       "678       NaN     NaN     6        NaN  0.001218  \n",
       "679       NaN     NaN     5        NaN  0.001170  \n",
       "\n",
       "[680 rows x 10 columns]"
      ]
     },
     "execution_count": 61,
     "metadata": {},
     "output_type": "execute_result"
    }
   ],
   "source": [
    "total_accident"
   ]
  },
  {
   "cell_type": "code",
   "execution_count": null,
   "metadata": {},
   "outputs": [],
   "source": []
  }
 ],
 "metadata": {
  "kernelspec": {
   "display_name": "base",
   "language": "python",
   "name": "python3"
  },
  "language_info": {
   "codemirror_mode": {
    "name": "ipython",
    "version": 3
   },
   "file_extension": ".py",
   "mimetype": "text/x-python",
   "name": "python",
   "nbconvert_exporter": "python",
   "pygments_lexer": "ipython3",
   "version": "3.11.5"
  }
 },
 "nbformat": 4,
 "nbformat_minor": 2
}
